{
 "cells": [
  {
   "cell_type": "code",
   "outputs": [],
   "source": [
    "import pandas as pd\n",
    "from sklearn.model_selection import train_test_split\n",
    "\n",
    "competition_dataset_path = 'dataset/train_essays.csv'\n",
    "extra_dataset_path = 'dataset/train_v2_drcat_02.csv'\n",
    "\n",
    "competition_dataset = pd.read_csv(competition_dataset_path)\n",
    "competition_dataset['label'] = competition_dataset['generated']\n",
    "competition_dataset = competition_dataset.drop(columns=['prompt_id', 'id', 'generated'])\n",
    "\n",
    "extra_dataset = pd.read_csv(extra_dataset_path)\n",
    "extra_dataset = extra_dataset.drop(columns=['prompt_name', 'source', 'RDizzl3_seven'])\n",
    "\n",
    "dataset = pd.concat([competition_dataset, extra_dataset], ignore_index=True)\n",
    "\n",
    "condition = dataset['label'] == 0\n",
    "filtered_dataset = dataset[condition]\n",
    "random_rows = filtered_dataset.sample(n=28000)\n",
    "dataset = dataset.drop(random_rows.index)\n",
    "\n",
    "condition = dataset['label'] == 1\n",
    "filtered_dataset = dataset[condition]\n",
    "random_rows = filtered_dataset.sample(n=16800)\n",
    "dataset = dataset.drop(random_rows.index)\n",
    "\n",
    "df_train, df_test = train_test_split(dataset, test_size=0.30, random_state=42, shuffle=True, stratify=dataset[\"label\"])"
   ],
   "metadata": {
    "collapsed": false,
    "ExecuteTime": {
     "end_time": "2024-05-01T09:33:38.713338Z",
     "start_time": "2024-05-01T09:33:37.047337Z"
    }
   },
   "id": "635b94ba68ebf513",
   "execution_count": 17
  },
  {
   "cell_type": "code",
   "outputs": [
    {
     "data": {
      "text/plain": "Map:   0%|          | 0/1012 [00:00<?, ? examples/s]",
      "application/vnd.jupyter.widget-view+json": {
       "version_major": 2,
       "version_minor": 0,
       "model_id": "efb57722857b4b428388a2fde17b1993"
      }
     },
     "metadata": {},
     "output_type": "display_data"
    },
    {
     "data": {
      "text/plain": "Map:   0%|          | 0/434 [00:00<?, ? examples/s]",
      "application/vnd.jupyter.widget-view+json": {
       "version_major": 2,
       "version_minor": 0,
       "model_id": "379c3ef683404e2c9eae1e14550814c4"
      }
     },
     "metadata": {},
     "output_type": "display_data"
    }
   ],
   "source": [
    "from torch.nn import CrossEntropyLoss\n",
    "import torch\n",
    "import numpy as np\n",
    "from transformers import AutoModelForSequenceClassification, AutoTokenizer, Trainer, TrainingArguments\n",
    "from datasets import Dataset\n",
    "\n",
    "model_location = 'results/checkpoint-10'\n",
    "# model_location = 'bert-base-uncased'\n",
    "\n",
    "tokenizer = AutoTokenizer.from_pretrained(model_location)\n",
    "\n",
    "def preprocess_function(examples):\n",
    "    return tokenizer(examples[\"text\"], truncation=True)\n",
    "\n",
    "train_dataset = Dataset.from_pandas(df_train)\n",
    "train_dataset = train_dataset.map(preprocess_function, batched=True)\n",
    "eval_dataset = Dataset.from_pandas(df_test)\n",
    "eval_dataset = eval_dataset.map(preprocess_function, batched=True)\n",
    "\n",
    "LABELS = ['human', 'generated']\n",
    "id2label = {idx:label for idx, label in enumerate(LABELS)}\n",
    "label2id = {label:idx for idx, label in enumerate(LABELS)}\n",
    "\n",
    "model = AutoModelForSequenceClassification.from_pretrained(model_location, num_labels=len(LABELS), id2label=id2label, label2id=label2id)\n",
    "\n",
    "training_args = TrainingArguments(\n",
    " output_dir=\"./results\",\n",
    " num_train_epochs=3,  # Количество эпох\n",
    " per_device_train_batch_size=8,  # Размер мини-багажа для обучения\n",
    " per_device_eval_batch_size=8,  # Размер мини-багажа для оценки\n",
    " evaluation_strategy=\"steps\",  # Периодичность оценки\n",
    " save_strategy=\"steps\",  # Периодичность сохранения модели\n",
    " save_steps= 10,\n",
    " logging_dir=\"./logs\",  # Директория для логов\n",
    " logging_steps=10,  # Шаги логирования\n",
    " learning_rate=5e-5,  # Темп обучения\n",
    " # label_names = [\"generated\"]\n",
    ")\n",
    "\n",
    "trainer = Trainer(\n",
    " model=model,\n",
    " args=training_args,\n",
    " train_dataset=train_dataset,  # Укажите тренировочный датасет\n",
    " eval_dataset=eval_dataset,\n",
    " tokenizer=tokenizer\n",
    ")\n",
    "# trainer.train()\n",
    "# trainer.evaluate()\n",
    "\n",
    "#https://web3day.ru/how-to-train-model-for-text-classification/\n",
    "#GPT"
   ],
   "metadata": {
    "collapsed": false,
    "ExecuteTime": {
     "end_time": "2024-05-01T09:33:40.155347Z",
     "start_time": "2024-05-01T09:33:38.715336Z"
    }
   },
   "id": "a2da4c57dec770e7",
   "execution_count": 18
  },
  {
   "cell_type": "code",
   "outputs": [
    {
     "data": {
      "text/plain": "Map:   0%|          | 0/3 [00:00<?, ? examples/s]",
      "application/vnd.jupyter.widget-view+json": {
       "version_major": 2,
       "version_minor": 0,
       "model_id": "2fa734e0103047bc83a01438d4f5c634"
      }
     },
     "metadata": {},
     "output_type": "display_data"
    },
    {
     "data": {
      "text/plain": "<IPython.core.display.HTML object>",
      "text/html": ""
     },
     "metadata": {},
     "output_type": "display_data"
    },
    {
     "data": {
      "text/plain": "         id  generated\n0  0000aaaa          1\n1  1111bbbb          0\n2  2222cccc          0",
      "text/html": "<div>\n<style scoped>\n    .dataframe tbody tr th:only-of-type {\n        vertical-align: middle;\n    }\n\n    .dataframe tbody tr th {\n        vertical-align: top;\n    }\n\n    .dataframe thead th {\n        text-align: right;\n    }\n</style>\n<table border=\"1\" class=\"dataframe\">\n  <thead>\n    <tr style=\"text-align: right;\">\n      <th></th>\n      <th>id</th>\n      <th>generated</th>\n    </tr>\n  </thead>\n  <tbody>\n    <tr>\n      <th>0</th>\n      <td>0000aaaa</td>\n      <td>1</td>\n    </tr>\n    <tr>\n      <th>1</th>\n      <td>1111bbbb</td>\n      <td>0</td>\n    </tr>\n    <tr>\n      <th>2</th>\n      <td>2222cccc</td>\n      <td>0</td>\n    </tr>\n  </tbody>\n</table>\n</div>"
     },
     "execution_count": 29,
     "metadata": {},
     "output_type": "execute_result"
    }
   ],
   "source": [
    "test_dataset_path = 'dataset/test_essays.csv'\n",
    "\n",
    "test_df = pd.read_csv(test_dataset_path)\n",
    "test_df = test_df.drop(columns=['prompt_id'])\n",
    "\n",
    "test_dataset = Dataset.from_pandas(test_df)\n",
    "test_dataset = test_dataset.map(preprocess_function, batched=True)\n",
    "\n",
    "predictions, label_ids, metrics = trainer.predict(test_dataset)\n",
    "predicted_labels = np.argmax(predictions, axis=1)\n",
    "\n",
    "out =  pd.DataFrame(data={'id': test_df.id, 'generated': predicted_labels})\n",
    "out\n",
    "# out.to_csv('submission.csv', index=False)"
   ],
   "metadata": {
    "collapsed": false,
    "ExecuteTime": {
     "end_time": "2024-05-01T11:12:00.984169Z",
     "start_time": "2024-05-01T11:12:00.701174Z"
    }
   },
   "id": "49b8af1a117c3f24",
   "execution_count": 29
  },
  {
   "cell_type": "code",
   "outputs": [],
   "source": [],
   "metadata": {
    "collapsed": false
   },
   "id": "6209c4622f814f36"
  }
 ],
 "metadata": {
  "kernelspec": {
   "display_name": "Python 3",
   "language": "python",
   "name": "python3"
  },
  "language_info": {
   "codemirror_mode": {
    "name": "ipython",
    "version": 2
   },
   "file_extension": ".py",
   "mimetype": "text/x-python",
   "name": "python",
   "nbconvert_exporter": "python",
   "pygments_lexer": "ipython2",
   "version": "2.7.6"
  }
 },
 "nbformat": 4,
 "nbformat_minor": 5
}
