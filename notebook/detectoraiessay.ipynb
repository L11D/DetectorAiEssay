{
 "metadata": {
  "kernelspec": {
   "language": "python",
   "display_name": "Python 3",
   "name": "python3"
  },
  "language_info": {
   "name": "python",
   "version": "3.10.13",
   "mimetype": "text/x-python",
   "codemirror_mode": {
    "name": "ipython",
    "version": 3
   },
   "pygments_lexer": "ipython3",
   "nbconvert_exporter": "python",
   "file_extension": ".py"
  },
  "kaggle": {
   "accelerator": "gpu",
   "dataSources": [
    {
     "sourceId": 61542,
     "databundleVersionId": 7516023,
     "sourceType": "competition"
    },
    {
     "sourceId": 6977472,
     "sourceType": "datasetVersion",
     "datasetId": 4005256
    },
    {
     "sourceId": 42066,
     "sourceType": "modelInstanceVersion",
     "modelInstanceId": 35351
    },
    {
     "sourceId": 42643,
     "sourceType": "modelInstanceVersion",
     "modelInstanceId": 35834
    },
    {
     "sourceId": 42642,
     "sourceType": "modelInstanceVersion",
     "modelInstanceId": 35833
    },
    {
     "sourceId": 42698,
     "sourceType": "modelInstanceVersion",
     "modelInstanceId": 35875
    }
   ],
   "dockerImageVersionId": 30698,
   "isInternetEnabled": false,
   "language": "python",
   "sourceType": "notebook",
   "isGpuEnabled": true
  }
 },
 "nbformat_minor": 4,
 "nbformat": 4,
 "cells": [
  {
   "cell_type": "code",
   "source": [
    "# import shutil\n",
    "# shutil.rmtree(\"results\")"
   ],
   "metadata": {
    "execution": {
     "iopub.status.busy": "2024-05-02T16:15:15.554640Z",
     "iopub.execute_input": "2024-05-02T16:15:15.554983Z",
     "iopub.status.idle": "2024-05-02T16:15:17.378677Z",
     "shell.execute_reply.started": "2024-05-02T16:15:15.554958Z",
     "shell.execute_reply": "2024-05-02T16:15:17.377763Z"
    },
    "trusted": true
   },
   "execution_count": 46,
   "outputs": []
  },
  {
   "cell_type": "code",
   "source": [
    "# This Python 3 environment comes with many helpful analytics libraries installed\n",
    "# It is defined by the kaggle/python Docker image: https://github.com/kaggle/docker-python\n",
    "# For example, here's several helpful packages to load\n",
    "\n",
    "import numpy as np # linear algebra\n",
    "import pandas as pd # data processing, CSV file I/O (e.g. pd.read_csv)\n",
    "\n",
    "# Input data files are available in the read-only \"../input/\" directory\n",
    "# For example, running this (by clicking run or pressing Shift+Enter) will list all files under the input directory\n",
    "\n",
    "import os\n",
    "for dirname, _, filenames in os.walk('/kaggle/input'):\n",
    "    for filename in filenames:\n",
    "        print(os.path.join(dirname, filename))\n",
    "\n",
    "# You can write up to 20GB to the current directory (/kaggle/working/) that gets preserved as output when you create a version using \"Save & Run All\" \n",
    "# You can also write temporary files to /kaggle/temp/, but they won't be saved outside of the current session"
   ],
   "metadata": {
    "_uuid": "8f2839f25d086af736a60e9eeb907d3b93b6e0e5",
    "_cell_guid": "b1076dfc-b9ad-4769-8c92-a6c4dae69d19",
    "execution": {
     "iopub.status.busy": "2024-05-02T16:10:24.083438Z",
     "iopub.execute_input": "2024-05-02T16:10:24.083787Z",
     "iopub.status.idle": "2024-05-02T16:10:24.121142Z",
     "shell.execute_reply.started": "2024-05-02T16:10:24.083748Z",
     "shell.execute_reply": "2024-05-02T16:10:24.120141Z"
    },
    "trusted": true
   },
   "execution_count": null,
   "outputs": []
  },
  {
   "cell_type": "code",
   "source": [
    "import pandas as pd\n",
    "from sklearn.model_selection import train_test_split\n",
    "\n",
    "competition_dataset_path = '/kaggle/input/llm-detect-ai-generated-text/train_essays.csv'\n",
    "extra_dataset_path = '/kaggle/input/daigt-v2-train-dataset/train_v2_drcat_02.csv'\n",
    "\n",
    "competition_dataset = pd.read_csv(competition_dataset_path)\n",
    "competition_dataset['label'] = competition_dataset['generated']\n",
    "competition_dataset = competition_dataset.drop(columns=['prompt_id', 'id', 'generated'])\n",
    "\n",
    "extra_dataset = pd.read_csv(extra_dataset_path)\n",
    "extra_dataset = extra_dataset.drop(columns=['prompt_name', 'source', 'RDizzl3_seven'])\n",
    "\n",
    "dataset = pd.concat([competition_dataset, extra_dataset], ignore_index=True)\n",
    "\n",
    "condition = dataset['label'] == 0\n",
    "filtered_dataset = dataset[condition]\n",
    "random_rows = filtered_dataset.sample(n=11200)\n",
    "dataset = dataset.drop(random_rows.index)\n",
    "\n",
    "# condition = dataset['label'] == 1\n",
    "# filtered_dataset = dataset[condition]\n",
    "# random_rows = filtered_dataset.sample(n=16800)\n",
    "# dataset = dataset.drop(random_rows.index)\n",
    "\n",
    "df_train, df_test = train_test_split(dataset, test_size=0.30, random_state=42, shuffle=True, stratify=dataset[\"label\"])"
   ],
   "metadata": {
    "execution": {
     "iopub.status.busy": "2024-05-02T16:10:24.122703Z",
     "iopub.execute_input": "2024-05-02T16:10:24.123047Z",
     "iopub.status.idle": "2024-05-02T16:10:26.351240Z",
     "shell.execute_reply.started": "2024-05-02T16:10:24.123018Z",
     "shell.execute_reply": "2024-05-02T16:10:26.350255Z"
    },
    "trusted": true
   },
   "execution_count": 41,
   "outputs": []
  },
  {
   "cell_type": "code",
   "source": [
    "dataset.label.value_counts()"
   ],
   "metadata": {
    "execution": {
     "iopub.status.busy": "2024-05-02T16:10:26.356858Z",
     "iopub.execute_input": "2024-05-02T16:10:26.357171Z",
     "iopub.status.idle": "2024-05-02T16:10:26.365419Z",
     "shell.execute_reply.started": "2024-05-02T16:10:26.357145Z",
     "shell.execute_reply": "2024-05-02T16:10:26.364410Z"
    },
    "trusted": true
   },
   "execution_count": null,
   "outputs": []
  },
  {
   "cell_type": "code",
   "source": [
    "import numpy as np\n",
    "from transformers import AutoModelForSequenceClassification, AutoTokenizer, Trainer, TrainingArguments\n",
    "from datasets import Dataset\n",
    "\n",
    "model_location = '/kaggle/input/bertdetectoraiessay/transformers/7500-0.0217/1'\n",
    "# model_location = '/kaggle/input/bertdetectoraiessay/transformers/v1/1'\n",
    "# model_location = 'bert-base-uncased'\n",
    "\n",
    "tokenizer = AutoTokenizer.from_pretrained(model_location)\n",
    "\n",
    "def preprocess_function(examples):\n",
    "    return tokenizer(examples[\"text\"], truncation=True)\n",
    "\n",
    "train_dataset = Dataset.from_pandas(df_train)\n",
    "train_dataset = train_dataset.map(preprocess_function, batched=True)\n",
    "eval_dataset = Dataset.from_pandas(df_test)\n",
    "eval_dataset = eval_dataset.map(preprocess_function, batched=True)\n",
    "\n",
    "LABELS = ['human', 'generated']\n",
    "id2label = {idx:label for idx, label in enumerate(LABELS)}\n",
    "label2id = {label:idx for idx, label in enumerate(LABELS)}\n",
    "\n",
    "model = AutoModelForSequenceClassification.from_pretrained(model_location, num_labels=len(LABELS), id2label=id2label, label2id=label2id)\n",
    "\n",
    "training_args = TrainingArguments(\n",
    " output_dir=\"./results\",\n",
    " num_train_epochs=3,  \n",
    " per_device_train_batch_size=8,  \n",
    " per_device_eval_batch_size=8,  \n",
    " evaluation_strategy=\"steps\",  \n",
    " save_strategy=\"steps\",  \n",
    " save_steps= 500,\n",
    " eval_steps = 500,\n",
    " logging_dir=\"./logs\",  \n",
    " logging_steps=500,  \n",
    " learning_rate=5e-5,  \n",
    "#  report_to='wandb'\n",
    " report_to='none'\n",
    ")\n",
    "\n",
    "trainer = Trainer(\n",
    " model=model,\n",
    " args=training_args,\n",
    " train_dataset=train_dataset,  \n",
    " eval_dataset=eval_dataset,\n",
    " tokenizer=tokenizer\n",
    ")\n",
    "# trainer.train()\n",
    "# trainer.evaluate()"
   ],
   "metadata": {
    "execution": {
     "iopub.status.busy": "2024-05-02T16:11:21.449134Z",
     "iopub.execute_input": "2024-05-02T16:11:21.449893Z",
     "iopub.status.idle": "2024-05-02T16:15:00.023697Z",
     "shell.execute_reply.started": "2024-05-02T16:11:21.449861Z",
     "shell.execute_reply": "2024-05-02T16:15:00.022827Z"
    },
    "trusted": true
   },
   "execution_count": null,
   "outputs": []
  },
  {
   "cell_type": "code",
   "source": [
    "test_dataset_path = '/kaggle/input/llm-detect-ai-generated-text/test_essays.csv'\n",
    "\n",
    "test_df = pd.read_csv(test_dataset_path)\n",
    "test_df = test_df.drop(columns=['prompt_id'])\n",
    "\n",
    "test_dataset = Dataset.from_pandas(test_df)\n",
    "test_dataset = test_dataset.map(preprocess_function, batched=True)\n",
    "\n",
    "predictions, label_ids, metrics = trainer.predict(test_dataset)\n",
    "predicted_labels = np.argmax(predictions, axis=1)\n",
    "\n",
    "out =  pd.DataFrame(data={'id': test_df.id, 'generated': predicted_labels})\n",
    "# out.to_csv('submission.csv', index=False)"
   ],
   "metadata": {
    "execution": {
     "iopub.status.busy": "2024-05-02T16:10:59.309594Z",
     "iopub.execute_input": "2024-05-02T16:10:59.309973Z",
     "iopub.status.idle": "2024-05-02T16:10:59.381360Z",
     "shell.execute_reply.started": "2024-05-02T16:10:59.309948Z",
     "shell.execute_reply": "2024-05-02T16:10:59.380526Z"
    },
    "trusted": true
   },
   "execution_count": 44,
   "outputs": [
    {
     "output_type": "display_data",
     "data": {
      "text/plain": "Map:   0%|          | 0/3 [00:00<?, ? examples/s]",
      "application/vnd.jupyter.widget-view+json": {
       "version_major": 2,
       "version_minor": 0,
       "model_id": "0e919ba5646b48c884fcc518f01918fa"
      }
     },
     "metadata": {}
    },
    {
     "output_type": "display_data",
     "data": {
      "text/plain": "<IPython.core.display.HTML object>",
      "text/html": ""
     },
     "metadata": {}
    }
   ]
  }
 ]
}
