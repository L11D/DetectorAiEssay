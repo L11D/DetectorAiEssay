{
 "cells": [
  {
   "cell_type": "code",
   "execution_count": null,
   "id": "initial_id",
   "metadata": {
    "collapsed": true
   },
   "outputs": [],
   "source": [
    "import pandas as pd\n",
    "import numpy as np\n",
    "\n"
   ]
  },
  {
   "cell_type": "code",
   "outputs": [
    {
     "data": {
      "text/plain": "         id  generated\n0  0000aaaa        0.1\n1  1111bbbb        0.9\n2  2222cccc        0.4",
      "text/html": "<div>\n<style scoped>\n    .dataframe tbody tr th:only-of-type {\n        vertical-align: middle;\n    }\n\n    .dataframe tbody tr th {\n        vertical-align: top;\n    }\n\n    .dataframe thead th {\n        text-align: right;\n    }\n</style>\n<table border=\"1\" class=\"dataframe\">\n  <thead>\n    <tr style=\"text-align: right;\">\n      <th></th>\n      <th>id</th>\n      <th>generated</th>\n    </tr>\n  </thead>\n  <tbody>\n    <tr>\n      <th>0</th>\n      <td>0000aaaa</td>\n      <td>0.1</td>\n    </tr>\n    <tr>\n      <th>1</th>\n      <td>1111bbbb</td>\n      <td>0.9</td>\n    </tr>\n    <tr>\n      <th>2</th>\n      <td>2222cccc</td>\n      <td>0.4</td>\n    </tr>\n  </tbody>\n</table>\n</div>"
     },
     "execution_count": 1,
     "metadata": {},
     "output_type": "execute_result"
    }
   ],
   "source": [
    "import pandas as pd\n",
    "        \n",
    "sample_submission = pd.read_csv('dataset/sample_submission.csv')\n",
    "sample_submission"
   ],
   "metadata": {
    "collapsed": false,
    "ExecuteTime": {
     "end_time": "2024-04-20T03:08:53.002909Z",
     "start_time": "2024-04-20T03:08:50.979705Z"
    }
   },
   "id": "81a54d3318f30973",
   "execution_count": 1
  },
  {
   "cell_type": "code",
   "outputs": [
    {
     "data": {
      "text/plain": "         id  prompt_id          text\n0  0000aaaa          2  Aaa bbb ccc.\n1  1111bbbb          3  Bbb ccc ddd.\n2  2222cccc          4  CCC ddd eee.",
      "text/html": "<div>\n<style scoped>\n    .dataframe tbody tr th:only-of-type {\n        vertical-align: middle;\n    }\n\n    .dataframe tbody tr th {\n        vertical-align: top;\n    }\n\n    .dataframe thead th {\n        text-align: right;\n    }\n</style>\n<table border=\"1\" class=\"dataframe\">\n  <thead>\n    <tr style=\"text-align: right;\">\n      <th></th>\n      <th>id</th>\n      <th>prompt_id</th>\n      <th>text</th>\n    </tr>\n  </thead>\n  <tbody>\n    <tr>\n      <th>0</th>\n      <td>0000aaaa</td>\n      <td>2</td>\n      <td>Aaa bbb ccc.</td>\n    </tr>\n    <tr>\n      <th>1</th>\n      <td>1111bbbb</td>\n      <td>3</td>\n      <td>Bbb ccc ddd.</td>\n    </tr>\n    <tr>\n      <th>2</th>\n      <td>2222cccc</td>\n      <td>4</td>\n      <td>CCC ddd eee.</td>\n    </tr>\n  </tbody>\n</table>\n</div>"
     },
     "execution_count": 2,
     "metadata": {},
     "output_type": "execute_result"
    }
   ],
   "source": [
    "import pandas as pd\n",
    "        \n",
    "test_essays = pd.read_csv('dataset/test_essays.csv')\n",
    "test_essays"
   ],
   "metadata": {
    "collapsed": false,
    "ExecuteTime": {
     "end_time": "2024-04-20T03:09:01.831215Z",
     "start_time": "2024-04-20T03:09:01.819217Z"
    }
   },
   "id": "27974ca19d5bb2a6",
   "execution_count": 2
  },
  {
   "cell_type": "code",
   "outputs": [
    {
     "data": {
      "text/plain": "            id  prompt_id                                               text  \\\n0     0059830c          0  Cars. Cars have been around since they became ...   \n1     005db917          0  Transportation is a large necessity in most co...   \n2     008f63e3          0  \"America's love affair with it's vehicles seem...   \n3     00940276          0  How often do you ride in a car? Do you drive a...   \n4     00c39458          0  Cars are a wonderful thing. They are perhaps o...   \n...        ...        ...                                                ...   \n1373  fe6ff9a5          1  There has been a fuss about the Elector Colleg...   \n1374  ff669174          0  Limiting car usage has many advantages. Such a...   \n1375  ffa247e0          0  There's a new trend that has been developing f...   \n1376  ffc237e9          0  As we all know cars are a big part of our soci...   \n1377  ffe1ca0d          0  Cars have been around since the 1800's and hav...   \n\n      generated  \n0             0  \n1             0  \n2             0  \n3             0  \n4             0  \n...         ...  \n1373          0  \n1374          0  \n1375          0  \n1376          0  \n1377          0  \n\n[1378 rows x 4 columns]",
      "text/html": "<div>\n<style scoped>\n    .dataframe tbody tr th:only-of-type {\n        vertical-align: middle;\n    }\n\n    .dataframe tbody tr th {\n        vertical-align: top;\n    }\n\n    .dataframe thead th {\n        text-align: right;\n    }\n</style>\n<table border=\"1\" class=\"dataframe\">\n  <thead>\n    <tr style=\"text-align: right;\">\n      <th></th>\n      <th>id</th>\n      <th>prompt_id</th>\n      <th>text</th>\n      <th>generated</th>\n    </tr>\n  </thead>\n  <tbody>\n    <tr>\n      <th>0</th>\n      <td>0059830c</td>\n      <td>0</td>\n      <td>Cars. Cars have been around since they became ...</td>\n      <td>0</td>\n    </tr>\n    <tr>\n      <th>1</th>\n      <td>005db917</td>\n      <td>0</td>\n      <td>Transportation is a large necessity in most co...</td>\n      <td>0</td>\n    </tr>\n    <tr>\n      <th>2</th>\n      <td>008f63e3</td>\n      <td>0</td>\n      <td>\"America's love affair with it's vehicles seem...</td>\n      <td>0</td>\n    </tr>\n    <tr>\n      <th>3</th>\n      <td>00940276</td>\n      <td>0</td>\n      <td>How often do you ride in a car? Do you drive a...</td>\n      <td>0</td>\n    </tr>\n    <tr>\n      <th>4</th>\n      <td>00c39458</td>\n      <td>0</td>\n      <td>Cars are a wonderful thing. They are perhaps o...</td>\n      <td>0</td>\n    </tr>\n    <tr>\n      <th>...</th>\n      <td>...</td>\n      <td>...</td>\n      <td>...</td>\n      <td>...</td>\n    </tr>\n    <tr>\n      <th>1373</th>\n      <td>fe6ff9a5</td>\n      <td>1</td>\n      <td>There has been a fuss about the Elector Colleg...</td>\n      <td>0</td>\n    </tr>\n    <tr>\n      <th>1374</th>\n      <td>ff669174</td>\n      <td>0</td>\n      <td>Limiting car usage has many advantages. Such a...</td>\n      <td>0</td>\n    </tr>\n    <tr>\n      <th>1375</th>\n      <td>ffa247e0</td>\n      <td>0</td>\n      <td>There's a new trend that has been developing f...</td>\n      <td>0</td>\n    </tr>\n    <tr>\n      <th>1376</th>\n      <td>ffc237e9</td>\n      <td>0</td>\n      <td>As we all know cars are a big part of our soci...</td>\n      <td>0</td>\n    </tr>\n    <tr>\n      <th>1377</th>\n      <td>ffe1ca0d</td>\n      <td>0</td>\n      <td>Cars have been around since the 1800's and hav...</td>\n      <td>0</td>\n    </tr>\n  </tbody>\n</table>\n<p>1378 rows × 4 columns</p>\n</div>"
     },
     "execution_count": 3,
     "metadata": {},
     "output_type": "execute_result"
    }
   ],
   "source": [
    "import pandas as pd\n",
    "        \n",
    "train_essays = pd.read_csv('dataset/train_essays.csv')\n",
    "train_essays"
   ],
   "metadata": {
    "collapsed": false,
    "ExecuteTime": {
     "end_time": "2024-04-20T03:09:06.511492Z",
     "start_time": "2024-04-20T03:09:06.434495Z"
    }
   },
   "id": "2fa7dbf6c729bc7c",
   "execution_count": 3
  },
  {
   "cell_type": "code",
   "outputs": [
    {
     "data": {
      "text/plain": "generated\n0    1375\n1       3\nName: count, dtype: int64"
     },
     "execution_count": 6,
     "metadata": {},
     "output_type": "execute_result"
    }
   ],
   "source": [
    "train_essays.generated.value_counts()"
   ],
   "metadata": {
    "collapsed": false,
    "ExecuteTime": {
     "end_time": "2024-04-20T03:10:20.405477Z",
     "start_time": "2024-04-20T03:10:20.393479Z"
    }
   },
   "id": "36d7abfd85edfa24",
   "execution_count": 6
  },
  {
   "cell_type": "code",
   "outputs": [
    {
     "data": {
      "text/plain": "   prompt_id                       prompt_name  \\\n0          0                   Car-free cities   \n1          1  Does the electoral college work?   \n\n                                        instructions  \\\n0  Write an explanatory essay to inform fellow ci...   \n1  Write a letter to your state senator in which ...   \n\n                                         source_text  \n0  # In German Suburb, Life Goes On Without Cars ...  \n1  # What Is the Electoral College? by the Office...  ",
      "text/html": "<div>\n<style scoped>\n    .dataframe tbody tr th:only-of-type {\n        vertical-align: middle;\n    }\n\n    .dataframe tbody tr th {\n        vertical-align: top;\n    }\n\n    .dataframe thead th {\n        text-align: right;\n    }\n</style>\n<table border=\"1\" class=\"dataframe\">\n  <thead>\n    <tr style=\"text-align: right;\">\n      <th></th>\n      <th>prompt_id</th>\n      <th>prompt_name</th>\n      <th>instructions</th>\n      <th>source_text</th>\n    </tr>\n  </thead>\n  <tbody>\n    <tr>\n      <th>0</th>\n      <td>0</td>\n      <td>Car-free cities</td>\n      <td>Write an explanatory essay to inform fellow ci...</td>\n      <td># In German Suburb, Life Goes On Without Cars ...</td>\n    </tr>\n    <tr>\n      <th>1</th>\n      <td>1</td>\n      <td>Does the electoral college work?</td>\n      <td>Write a letter to your state senator in which ...</td>\n      <td># What Is the Electoral College? by the Office...</td>\n    </tr>\n  </tbody>\n</table>\n</div>"
     },
     "execution_count": 4,
     "metadata": {},
     "output_type": "execute_result"
    }
   ],
   "source": [
    "import pandas as pd\n",
    "        \n",
    "train_prompts = pd.read_csv('dataset/train_prompts.csv')\n",
    "train_prompts"
   ],
   "metadata": {
    "collapsed": false,
    "ExecuteTime": {
     "end_time": "2024-04-20T03:09:09.448486Z",
     "start_time": "2024-04-20T03:09:09.435487Z"
    }
   },
   "id": "b1840ac38fa8e245",
   "execution_count": 4
  },
  {
   "cell_type": "code",
   "outputs": [
    {
     "data": {
      "text/plain": "                                                    text  label  \\\n0      Phones\\n\\nModern humans today are always on th...      0   \n1      This essay will explain if drivers should or s...      0   \n2      Driving while the use of cellular devices\\n\\nT...      0   \n3      Phones & Driving\\n\\nDrivers should not be able...      0   \n4      Cell Phone Operation While Driving\\n\\nThe abil...      0   \n...                                                  ...    ...   \n44863  Dear Senator,\\n\\nI am writing to you today to ...      1   \n44864  Dear Senator,\\n\\nI am writing to you today to ...      1   \n44865  Dear Senator,\\n\\nI am writing to you today to ...      1   \n44866  Dear Senator,\\n\\nI am writing to you today to ...      1   \n44867  Dear Senator,\\n\\nI am writing to you today to ...      1   \n\n                            prompt_name           source  RDizzl3_seven  \n0                    Phones and driving  persuade_corpus          False  \n1                    Phones and driving  persuade_corpus          False  \n2                    Phones and driving  persuade_corpus          False  \n3                    Phones and driving  persuade_corpus          False  \n4                    Phones and driving  persuade_corpus          False  \n...                                 ...              ...            ...  \n44863  Does the electoral college work?    kingki19_palm           True  \n44864  Does the electoral college work?    kingki19_palm           True  \n44865  Does the electoral college work?    kingki19_palm           True  \n44866  Does the electoral college work?    kingki19_palm           True  \n44867  Does the electoral college work?    kingki19_palm           True  \n\n[44868 rows x 5 columns]",
      "text/html": "<div>\n<style scoped>\n    .dataframe tbody tr th:only-of-type {\n        vertical-align: middle;\n    }\n\n    .dataframe tbody tr th {\n        vertical-align: top;\n    }\n\n    .dataframe thead th {\n        text-align: right;\n    }\n</style>\n<table border=\"1\" class=\"dataframe\">\n  <thead>\n    <tr style=\"text-align: right;\">\n      <th></th>\n      <th>text</th>\n      <th>label</th>\n      <th>prompt_name</th>\n      <th>source</th>\n      <th>RDizzl3_seven</th>\n    </tr>\n  </thead>\n  <tbody>\n    <tr>\n      <th>0</th>\n      <td>Phones\\n\\nModern humans today are always on th...</td>\n      <td>0</td>\n      <td>Phones and driving</td>\n      <td>persuade_corpus</td>\n      <td>False</td>\n    </tr>\n    <tr>\n      <th>1</th>\n      <td>This essay will explain if drivers should or s...</td>\n      <td>0</td>\n      <td>Phones and driving</td>\n      <td>persuade_corpus</td>\n      <td>False</td>\n    </tr>\n    <tr>\n      <th>2</th>\n      <td>Driving while the use of cellular devices\\n\\nT...</td>\n      <td>0</td>\n      <td>Phones and driving</td>\n      <td>persuade_corpus</td>\n      <td>False</td>\n    </tr>\n    <tr>\n      <th>3</th>\n      <td>Phones &amp; Driving\\n\\nDrivers should not be able...</td>\n      <td>0</td>\n      <td>Phones and driving</td>\n      <td>persuade_corpus</td>\n      <td>False</td>\n    </tr>\n    <tr>\n      <th>4</th>\n      <td>Cell Phone Operation While Driving\\n\\nThe abil...</td>\n      <td>0</td>\n      <td>Phones and driving</td>\n      <td>persuade_corpus</td>\n      <td>False</td>\n    </tr>\n    <tr>\n      <th>...</th>\n      <td>...</td>\n      <td>...</td>\n      <td>...</td>\n      <td>...</td>\n      <td>...</td>\n    </tr>\n    <tr>\n      <th>44863</th>\n      <td>Dear Senator,\\n\\nI am writing to you today to ...</td>\n      <td>1</td>\n      <td>Does the electoral college work?</td>\n      <td>kingki19_palm</td>\n      <td>True</td>\n    </tr>\n    <tr>\n      <th>44864</th>\n      <td>Dear Senator,\\n\\nI am writing to you today to ...</td>\n      <td>1</td>\n      <td>Does the electoral college work?</td>\n      <td>kingki19_palm</td>\n      <td>True</td>\n    </tr>\n    <tr>\n      <th>44865</th>\n      <td>Dear Senator,\\n\\nI am writing to you today to ...</td>\n      <td>1</td>\n      <td>Does the electoral college work?</td>\n      <td>kingki19_palm</td>\n      <td>True</td>\n    </tr>\n    <tr>\n      <th>44866</th>\n      <td>Dear Senator,\\n\\nI am writing to you today to ...</td>\n      <td>1</td>\n      <td>Does the electoral college work?</td>\n      <td>kingki19_palm</td>\n      <td>True</td>\n    </tr>\n    <tr>\n      <th>44867</th>\n      <td>Dear Senator,\\n\\nI am writing to you today to ...</td>\n      <td>1</td>\n      <td>Does the electoral college work?</td>\n      <td>kingki19_palm</td>\n      <td>True</td>\n    </tr>\n  </tbody>\n</table>\n<p>44868 rows × 5 columns</p>\n</div>"
     },
     "execution_count": 9,
     "metadata": {},
     "output_type": "execute_result"
    }
   ],
   "source": [
    "import pandas as pd\n",
    "        \n",
    "train_v2_drcat_02 = pd.read_csv('dataset/train_v2_drcat_02.csv')\n",
    "train_v2_drcat_02"
   ],
   "metadata": {
    "collapsed": false,
    "ExecuteTime": {
     "end_time": "2024-04-20T04:09:16.250240Z",
     "start_time": "2024-04-20T04:09:14.932243Z"
    }
   },
   "id": "59bf2d6641af7ee2",
   "execution_count": 9
  },
  {
   "cell_type": "code",
   "outputs": [
    {
     "data": {
      "text/plain": "prompt_name\nDistance learning                        5554\nSeeking multiple opinions                5176\nCar-free cities                          4717\nDoes the electoral college work?         4434\nFacial action coding system              3084\nMandatory extracurricular activities     3077\nSummer projects                          2701\nDriverless cars                          2250\nExploring Venus                          2176\nCell phones at school                    2119\nGrades for extracurricular activities    2116\nCommunity service                        2092\n\"A Cowboy Who Rode the Waves\"            1896\nThe Face on Mars                         1893\nPhones and driving                       1583\nName: count, dtype: int64"
     },
     "execution_count": 13,
     "metadata": {},
     "output_type": "execute_result"
    }
   ],
   "source": [
    "train_v2_drcat_02.prompt_name.value_counts()"
   ],
   "metadata": {
    "collapsed": false,
    "ExecuteTime": {
     "end_time": "2024-04-20T04:11:44.272133Z",
     "start_time": "2024-04-20T04:11:44.262130Z"
    }
   },
   "id": "c5491e259b621849",
   "execution_count": 13
  },
  {
   "cell_type": "code",
   "outputs": [],
   "source": [
    "competition_dataset = pd.read_csv('dataset/train_essays.csv')\n",
    "competition_dataset['label'] = competition_dataset['generated']\n",
    "competition_dataset = competition_dataset.drop(columns = ['prompt_id', 'id', 'generated'])\n",
    "\n",
    "extra_dataset = pd.read_csv('dataset/train_v2_drcat_02.csv')\n",
    "extra_dataset = extra_dataset.drop(columns = ['prompt_name', 'source', 'RDizzl3_seven'])\n",
    "\n",
    "dataset = pd.concat([competition_dataset, extra_dataset], ignore_index=True)\n",
    "\n",
    "condition = dataset['label'] == 0\n",
    "filtered_dataset = dataset[condition]\n",
    "random_rows = filtered_dataset.sample(n=28000)\n",
    "dataset = dataset.drop(random_rows.index)\n",
    "\n",
    "condition = dataset['label'] == 1\n",
    "filtered_dataset = dataset[condition]\n",
    "random_rows = filtered_dataset.sample(n=16800)\n",
    "dataset = dataset.drop(random_rows.index)"
   ],
   "metadata": {
    "collapsed": false,
    "ExecuteTime": {
     "end_time": "2024-04-30T10:35:57.980167Z",
     "start_time": "2024-04-30T10:35:56.554607Z"
    }
   },
   "id": "9d8c51867806f243",
   "execution_count": 20
  },
  {
   "cell_type": "code",
   "outputs": [
    {
     "data": {
      "text/plain": "label\n0    746\n1    700\nName: count, dtype: int64"
     },
     "execution_count": 21,
     "metadata": {},
     "output_type": "execute_result"
    }
   ],
   "source": [
    "dataset.label.value_counts()"
   ],
   "metadata": {
    "collapsed": false,
    "ExecuteTime": {
     "end_time": "2024-04-30T10:35:58.466280Z",
     "start_time": "2024-04-30T10:35:58.458278Z"
    }
   },
   "id": "82f408dbe638bc2",
   "execution_count": 21
  },
  {
   "cell_type": "code",
   "outputs": [
    {
     "data": {
      "text/plain": "   id  value\n0   0      5\n1   1     10\n2   2     15\n3   3     20\n4   4     25\n5   5     30\n6   6     35\n7   7     40\n8   8     45\n9   9     50",
      "text/html": "<div>\n<style scoped>\n    .dataframe tbody tr th:only-of-type {\n        vertical-align: middle;\n    }\n\n    .dataframe tbody tr th {\n        vertical-align: top;\n    }\n\n    .dataframe thead th {\n        text-align: right;\n    }\n</style>\n<table border=\"1\" class=\"dataframe\">\n  <thead>\n    <tr style=\"text-align: right;\">\n      <th></th>\n      <th>id</th>\n      <th>value</th>\n    </tr>\n  </thead>\n  <tbody>\n    <tr>\n      <th>0</th>\n      <td>0</td>\n      <td>5</td>\n    </tr>\n    <tr>\n      <th>1</th>\n      <td>1</td>\n      <td>10</td>\n    </tr>\n    <tr>\n      <th>2</th>\n      <td>2</td>\n      <td>15</td>\n    </tr>\n    <tr>\n      <th>3</th>\n      <td>3</td>\n      <td>20</td>\n    </tr>\n    <tr>\n      <th>4</th>\n      <td>4</td>\n      <td>25</td>\n    </tr>\n    <tr>\n      <th>5</th>\n      <td>5</td>\n      <td>30</td>\n    </tr>\n    <tr>\n      <th>6</th>\n      <td>6</td>\n      <td>35</td>\n    </tr>\n    <tr>\n      <th>7</th>\n      <td>7</td>\n      <td>40</td>\n    </tr>\n    <tr>\n      <th>8</th>\n      <td>8</td>\n      <td>45</td>\n    </tr>\n    <tr>\n      <th>9</th>\n      <td>9</td>\n      <td>50</td>\n    </tr>\n  </tbody>\n</table>\n</div>"
     },
     "execution_count": 13,
     "metadata": {},
     "output_type": "execute_result"
    }
   ],
   "source": [
    "import pandas as pd\n",
    "\n",
    "# Создаем пример DataFrame\n",
    "data = {\n",
    "    'id': range(10),\n",
    "    'value': [5, 10, 15, 20, 25, 30, 35, 40, 45, 50]\n",
    "}\n",
    "df = pd.DataFrame(data)\n",
    "\n",
    "df"
   ],
   "metadata": {
    "collapsed": false,
    "ExecuteTime": {
     "end_time": "2024-04-30T10:28:34.563880Z",
     "start_time": "2024-04-30T10:28:34.551881Z"
    }
   },
   "id": "6538b3c76a0a17",
   "execution_count": 13
  },
  {
   "cell_type": "code",
   "outputs": [
    {
     "data": {
      "text/plain": "0    False\n1    False\n2    False\n3    False\n4     True\n5     True\n7     True\n9     True\nName: value, dtype: bool"
     },
     "execution_count": 15,
     "metadata": {},
     "output_type": "execute_result"
    }
   ],
   "source": [
    "condition = df['value'] >= 25\n",
    "\n",
    "# Отфильтруем DataFrame, чтобы оставить только строки, которые соответствуют условию\n",
    "condition"
   ],
   "metadata": {
    "collapsed": false,
    "ExecuteTime": {
     "end_time": "2024-04-30T10:29:37.941807Z",
     "start_time": "2024-04-30T10:29:37.927807Z"
    }
   },
   "id": "27ce15afbee32ace",
   "execution_count": 15
  },
  {
   "cell_type": "code",
   "outputs": [],
   "source": [
    "filtered_df = df[condition]\n",
    "\n",
    "# Выберем случайные строки из отфильтрованного DataFrame\n",
    "# Укажите количество строк, которые вы хотите удалить (например, 2)\n",
    "random_rows = filtered_df.sample(n=2)\n",
    "\n",
    "# Удалим выбранные строки из исходного DataFrame\n",
    "df = df.drop(random_rows.index)\n",
    "df"
   ],
   "metadata": {
    "collapsed": false
   },
   "id": "3b128d2cb3b819a1"
  },
  {
   "cell_type": "code",
   "outputs": [],
   "source": [],
   "metadata": {
    "collapsed": false,
    "ExecuteTime": {
     "end_time": "2024-04-30T10:28:25.795917Z",
     "start_time": "2024-04-30T10:28:25.777917Z"
    }
   },
   "id": "2c0d83900ea6d67b",
   "execution_count": 11
  },
  {
   "cell_type": "code",
   "outputs": [],
   "source": [],
   "metadata": {
    "collapsed": false
   },
   "id": "df7fad3e6872e2cd"
  }
 ],
 "metadata": {
  "kernelspec": {
   "display_name": "Python 3",
   "language": "python",
   "name": "python3"
  },
  "language_info": {
   "codemirror_mode": {
    "name": "ipython",
    "version": 2
   },
   "file_extension": ".py",
   "mimetype": "text/x-python",
   "name": "python",
   "nbconvert_exporter": "python",
   "pygments_lexer": "ipython2",
   "version": "2.7.6"
  }
 },
 "nbformat": 4,
 "nbformat_minor": 5
}
